{
  "nbformat": 4,
  "nbformat_minor": 0,
  "metadata": {
    "colab": {
      "provenance": []
    },
    "kernelspec": {
      "name": "python3",
      "display_name": "Python 3"
    },
    "language_info": {
      "name": "python"
    }
  },
  "cells": [
    {
      "cell_type": "markdown",
      "source": [
        "### 입력오류, 계산오류를 구현한 두 자연수의 나눗셈을 실행하는 Python code"
      ],
      "metadata": {
        "id": "hWSxDn-4rZiI"
      }
    },
    {
      "cell_type": "code",
      "execution_count": 7,
      "metadata": {
        "colab": {
          "base_uri": "https://localhost:8080/"
        },
        "id": "uoLnyTm5pS5S",
        "outputId": "cc6034e2-c0b1-4567-83c7-c6c2f2c1956b"
      },
      "outputs": [
        {
          "output_type": "stream",
          "name": "stdout",
          "text": [
            "숫자 두 개를 입력해주세요.3 0\n",
            "계산오류가 발생했습니다. 분모가 0인지 아닌지 확인해주세요.\n",
            "calculation completed\n"
          ]
        }
      ],
      "source": [
        "try:\n",
        "  a, b = map (int,input(\"숫자 두 개를 입력해주세요.\").split())\n",
        "except:\n",
        "  print(\"입력한 숫자를 확인해주세요.\")\n",
        "else:\n",
        "  try:\n",
        "    c = a/ b\n",
        "  except:\n",
        "    print(\"계산오류가 발생했습니다. 분모가 0인지 아닌지 확인해주세요.\")\n",
        "  else:\n",
        "    print(f\"{a}/{b} = {c} \")\n",
        "finally:\n",
        "  print(\"calculation completed\")"
      ]
    },
    {
      "cell_type": "markdown",
      "source": [
        "예외가 발생할 수 있는 코드를 시도합니다. 사용자로부터 입력받은 문자열을 공백을 기준으로 나누고, 각각의 요소를 정수형으로 변환하여 a와 b에 할당합니다.\n",
        "\n"
      ],
      "metadata": {
        "id": "M8dTtr7ZrVLw"
      }
    },
    {
      "cell_type": "code",
      "source": [
        "try:\n",
        "  a, b = map (int,input(\"숫자 두 개를 입력해주세요.\").split())"
      ],
      "metadata": {
        "id": "MDy4c_yXrG9o"
      },
      "execution_count": null,
      "outputs": []
    },
    {
      "cell_type": "markdown",
      "source": [
        "예외가 발생했을 때 처리합니다. 여기서는 숫자를 잘못 입력했을 경우 \"입력한 숫자를 확인해주세요.\"라는 메시지를 출력합니다."
      ],
      "metadata": {
        "id": "A47jsfb5ruVP"
      }
    },
    {
      "cell_type": "code",
      "source": [
        "except:\n",
        "  print(\"입력한 숫자를 확인해주세요.\")"
      ],
      "metadata": {
        "id": "KDDsX3ostr-A"
      },
      "execution_count": null,
      "outputs": []
    },
    {
      "cell_type": "markdown",
      "source": [
        "예외가 발생하지 않았을 때 처리합니다. 여기서 다시 예외가 발생할 수 있는 코드를 시도합니다. a를 b로 나눈값을 c에 할당합니다. 여기서 ZeroDivisionError같은 계산 오류가 발생할 수 있습니다."
      ],
      "metadata": {
        "id": "V4j0rMOwtqGo"
      }
    },
    {
      "cell_type": "code",
      "source": [
        "else:\n",
        "  try:\n",
        "    c = a/ b"
      ],
      "metadata": {
        "id": "1XWwQoaKt7-4"
      },
      "execution_count": null,
      "outputs": []
    },
    {
      "cell_type": "markdown",
      "source": [
        "예외가 발생했을 때 처리합니다. 여기서는 분모가 0인 경우 \"분모가 0인지 아닌지 확인해주세요.\"라는 메시지를 출력합니다."
      ],
      "metadata": {
        "id": "_2hBjt9Gt8pX"
      }
    },
    {
      "cell_type": "code",
      "source": [
        "except:\n",
        "    print(\"계산오류가 발생했습니다. 분모가 0인지 아닌지 확인해주세요.\")"
      ],
      "metadata": {
        "id": "LBt996kVt_xp"
      },
      "execution_count": null,
      "outputs": []
    },
    {
      "cell_type": "markdown",
      "source": [
        "예외가 발생하지 않았을 때 처리합니다. 나눗셈이 성공적으로 수행되었을 경우에 해당합니다. 이 경우에는 {a}/{b} = {c} 형식의 메시지를 출력합니다."
      ],
      "metadata": {
        "id": "HLGv0USnuKsf"
      }
    },
    {
      "cell_type": "code",
      "source": [
        "else:\n",
        "    print(f\"{a}/{b} = {c} \")"
      ],
      "metadata": {
        "id": "dajvfeN_uQyv"
      },
      "execution_count": null,
      "outputs": []
    },
    {
      "cell_type": "markdown",
      "source": [
        "예외 발생 여부와 상관없이 항상 실행됩니다. 여기서는 \"calculation completed\"라는 메시지를 출력합니다."
      ],
      "metadata": {
        "id": "VrKpBF1luSyY"
      }
    },
    {
      "cell_type": "code",
      "source": [
        "finally:\n",
        "  print(\"calculation completed\")"
      ],
      "metadata": {
        "id": "_-O7xD-vuW2n"
      },
      "execution_count": null,
      "outputs": []
    }
  ]
}